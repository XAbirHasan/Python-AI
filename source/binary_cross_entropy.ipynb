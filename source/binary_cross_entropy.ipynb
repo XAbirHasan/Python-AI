{
  "nbformat": 4,
  "nbformat_minor": 0,
  "metadata": {
    "colab": {
      "name": "binary_cross_entropy.ipynb",
      "provenance": [],
      "collapsed_sections": []
    },
    "kernelspec": {
      "name": "python3",
      "display_name": "Python 3"
    }
  },
  "cells": [
    {
      "cell_type": "markdown",
      "metadata": {
        "id": "AqHRikR2aa3-"
      },
      "source": [
        "# binary_cross_entropy"
      ]
    },
    {
      "cell_type": "code",
      "metadata": {
        "id": "nFCIj5mgiPlg"
      },
      "source": [
        "import pandas as pd\n",
        "import numpy as np\n",
        "\n",
        "input_path = \"/content/diabetes2.csv\" # data path\n",
        "data = pd.read_csv(input_path, header = None)\n",
        "data.drop(data.columns[[0]], axis=0, inplace = True) #to Remove a row with index value\n",
        "data = data.astype(float)\n",
        "numpy_data = data.to_numpy()\n"
      ],
      "execution_count": 81,
      "outputs": []
    },
    {
      "cell_type": "code",
      "metadata": {
        "id": "2S9iRvtRkBPP",
        "colab": {
          "base_uri": "https://localhost:8080/"
        },
        "outputId": "f5335323-d80d-4c4d-9a61-129aaa250e0e"
      },
      "source": [
        "print(numpy_data.shape)\n",
        "print(numpy_data[0][0])"
      ],
      "execution_count": 82,
      "outputs": [
        {
          "output_type": "stream",
          "name": "stdout",
          "text": [
            "(768, 9)\n",
            "6.0\n"
          ]
        }
      ]
    },
    {
      "cell_type": "code",
      "metadata": {
        "id": "GI3-raYklPAi",
        "colab": {
          "base_uri": "https://localhost:8080/"
        },
        "outputId": "296758b0-7b3d-4ee1-8b34-4e23ff1a88de"
      },
      "source": [
        "mean_x = numpy_data.mean(axis = 0)\n",
        "print(mean_x)\n",
        "\n",
        "max_x = numpy_data.max(axis = 0)\n",
        "print(max_x)\n",
        "\n",
        "min_x = numpy_data.min(axis = 0)\n",
        "print(min_x)"
      ],
      "execution_count": 83,
      "outputs": [
        {
          "output_type": "stream",
          "name": "stdout",
          "text": [
            "[  3.84505208 120.89453125  69.10546875  20.53645833  79.79947917\n",
            "  31.99257812   0.4718763   33.24088542   0.34895833]\n",
            "[ 17.   199.   122.    99.   846.    67.1    2.42  81.     1.  ]\n",
            "[ 0.     0.     0.     0.     0.     0.     0.078 21.     0.   ]\n"
          ]
        }
      ]
    },
    {
      "cell_type": "code",
      "metadata": {
        "id": "LZacSmg3oU30"
      },
      "source": [
        "n = len(numpy_data)\n",
        "m = len(numpy_data[0])\n",
        "\n",
        "for i in range(0, n):\n",
        "    for j in range(0, m-1):\n",
        "        x = numpy_data[i][j]\n",
        "        x_bar = (x - mean_x[j])/ (max_x[j] - min_x[j])\n",
        "        numpy_data[i][j] = x_bar"
      ],
      "execution_count": 84,
      "outputs": []
    },
    {
      "cell_type": "code",
      "metadata": {
        "id": "tR7InYUDrlDX",
        "colab": {
          "base_uri": "https://localhost:8080/"
        },
        "outputId": "c2d4988f-49a4-46d4-93db-7681305a6b66"
      },
      "source": [
        "print(numpy_data.shape)\n",
        "print(numpy_data[0][0])"
      ],
      "execution_count": 85,
      "outputs": [
        {
          "output_type": "stream",
          "name": "stdout",
          "text": [
            "(768, 9)\n",
            "0.12676164215686272\n"
          ]
        }
      ]
    },
    {
      "cell_type": "code",
      "metadata": {
        "id": "fSxTyxPetcMD"
      },
      "source": [
        "list_data = numpy_data.tolist()\n",
        "\n",
        "train_set = []\n",
        "test_set = []\n",
        "\n",
        "import random   \n",
        "\n",
        "for i in list_data:\n",
        "    r = random.random()\n",
        "    if(r>=0 and r<=.7):\n",
        "        train_set.append(i)\n",
        "    else:\n",
        "        test_set.append(i)"
      ],
      "execution_count": 86,
      "outputs": []
    },
    {
      "cell_type": "code",
      "metadata": {
        "id": "o9iL4pvkvPD0",
        "colab": {
          "base_uri": "https://localhost:8080/"
        },
        "outputId": "346587a2-740c-44ab-f346-53c3b064adc8"
      },
      "source": [
        "print(len(train_set)/ len(list_data))\n",
        "print(len(test_set)/ len(list_data))"
      ],
      "execution_count": 87,
      "outputs": [
        {
          "output_type": "stream",
          "name": "stdout",
          "text": [
            "0.72265625\n",
            "0.27734375\n"
          ]
        }
      ]
    },
    {
      "cell_type": "code",
      "metadata": {
        "id": "czLL_lKdyFBn"
      },
      "source": [
        "parameter_vector = []\n",
        "bias = 1\n",
        "m = len(train_set[0])\n",
        "for i in range(0, m-1):\n",
        "    r = random.uniform(1,10)\n",
        "    parameter_vector.append(r)\n",
        "parameter_vector.append(bias)\n"
      ],
      "execution_count": 88,
      "outputs": []
    },
    {
      "cell_type": "code",
      "metadata": {
        "id": "ZxnKTOPi-XG6"
      },
      "source": [
        "copylist =  parameter_vector.copy()"
      ],
      "execution_count": 89,
      "outputs": []
    },
    {
      "cell_type": "code",
      "metadata": {
        "id": "0u5UdVj6-hsw",
        "colab": {
          "base_uri": "https://localhost:8080/"
        },
        "outputId": "002fa982-cd3c-4bf6-aa97-75c7105f1760"
      },
      "source": [
        "parameter_vector = copylist.copy()\n",
        "print(parameter_vector)"
      ],
      "execution_count": 90,
      "outputs": [
        {
          "output_type": "stream",
          "name": "stdout",
          "text": [
            "[2.85958844463454, 6.256654445924786, 6.78286794047444, 2.4563233401183013, 4.861249908495033, 6.4001882896381606, 3.614014353043865, 6.7300601813607575, 1]\n"
          ]
        }
      ]
    },
    {
      "cell_type": "code",
      "metadata": {
        "id": "JjSRN5s739By",
        "colab": {
          "base_uri": "https://localhost:8080/"
        },
        "outputId": "dd1c2b32-c01a-43d8-fd74-dd829421c32b"
      },
      "source": [
        "import math\n",
        "m = len(train_set) \n",
        "col = len(parameter_vector)\n",
        "\n",
        "s = 0\n",
        "hx_yi_list = []\n",
        "for i in range(0, m):\n",
        "    g_list = []\n",
        "    for j  in range(0,col):\n",
        "        g_list.append(train_set[i][j]*parameter_vector[j])\n",
        "    g = sum(g_list)\n",
        "\n",
        "    h_x = (1/(1+math.exp(-g)))\n",
        "    y_i = train_set[i][-1]\n",
        "    node = [h_x, y_i]\n",
        "    hx_yi_list.append(node)\n",
        "    s += (y_i * math.log10(h_x)) + ((1-y_i)* math.log10(1-h_x))\n",
        "\n",
        "j_m = -(s/m)\n",
        "\n",
        "lr = 0.05\n",
        "\n",
        "print(j_m)\n",
        "print(len(hx_yi_list), m)\n",
        "\n",
        "print(parameter_vector)"
      ],
      "execution_count": 91,
      "outputs": [
        {
          "output_type": "stream",
          "name": "stdout",
          "text": [
            "0.3319441099605073\n",
            "555 555\n",
            "[2.85958844463454, 6.256654445924786, 6.78286794047444, 2.4563233401183013, 4.861249908495033, 6.4001882896381606, 3.614014353043865, 6.7300601813607575, 1]\n"
          ]
        }
      ]
    },
    {
      "cell_type": "code",
      "metadata": {
        "id": "x06A5rp2GGV_",
        "colab": {
          "base_uri": "https://localhost:8080/"
        },
        "outputId": "bb126648-2f17-4269-ac22-3f921ac3edfd"
      },
      "source": [
        "m = len(train_set) \n",
        "col = len(parameter_vector)\n",
        "while(j_m > .002):\n",
        "    pre_jm = j_m\n",
        "    sum_hx = 0\n",
        "    new_parameter_vector = []\n",
        "    for k in range(0, col):\n",
        "        for i in range(0, m):\n",
        "            h_x = hx_yi_list[i][0]\n",
        "            y_i = hx_yi_list[i][1]\n",
        "            sum_hx += ((h_x - y_i) * parameter_vector[k] )\n",
        "\n",
        "        update =  parameter_vector[k] - ((lr / m) * sum_hx)\n",
        "        new_parameter_vector.append(update)\n",
        "\n",
        "    # print(parameter_vector)\n",
        "    # print(new_parameter_vector)\n",
        "\n",
        "    parameter_vector = new_parameter_vector.copy()\n",
        "\n",
        "    s = 0\n",
        "    hx_yi_list_new = []\n",
        "    for i in range(0, m):\n",
        "        g_list = []\n",
        "        for j  in range(0,col):\n",
        "            g_list.append(train_set[i][j]*parameter_vector[j])\n",
        "        g = sum(g_list)\n",
        "\n",
        "        h_x = (1/(1+math.exp(-g)))\n",
        "        y_i = train_set[i][-1]\n",
        "        node = [h_x, y_i]\n",
        "        hx_yi_list_new.append(node)\n",
        "        s += (y_i * math.log10(h_x)) + ((1-y_i)* math.log10(1-h_x))\n",
        "\n",
        "    j_m = -(s/m)\n",
        "\n",
        "    hx_yi_list = hx_yi_list_new.copy()\n",
        "    # print(j_m)\n",
        "    if(abs(pre_jm - j_m)<.0000002):\n",
        "        print(\"Done training\")\n",
        "        break"
      ],
      "execution_count": 94,
      "outputs": [
        {
          "output_type": "stream",
          "name": "stdout",
          "text": [
            "Done training\n"
          ]
        }
      ]
    },
    {
      "cell_type": "code",
      "metadata": {
        "id": "sYQIRGUm8DKz",
        "colab": {
          "base_uri": "https://localhost:8080/"
        },
        "outputId": "93733352-4db9-4582-86d0-59ff3856d08f"
      },
      "source": [
        "# test set\n",
        "m = len(test_set) \n",
        "col = len(parameter_vector)\n",
        "correct = 0\n",
        "for i in range(0, m):\n",
        "    g_list = []\n",
        "    for j  in range(0,col):\n",
        "        g_list.append(test_set[i][j]*parameter_vector[j])\n",
        "    g = sum(g_list)\n",
        "\n",
        "    h_x = (1/(1+math.exp(-g)))\n",
        "    if(h_x >= 0.5 ):\n",
        "        ypred_i = 1\n",
        "    else:\n",
        "        ypred_i = 0\n",
        "    y_i = test_set[i][-1]\n",
        "\n",
        "    if(ypred_i == y_i):\n",
        "        correct += 1\n",
        "accuracy = (correct/m) * 100\n",
        "\n",
        "print(\"accuracy : \", accuracy ,\"%\")\n"
      ],
      "execution_count": 95,
      "outputs": [
        {
          "output_type": "stream",
          "name": "stdout",
          "text": [
            "accuracy :  53.051643192488264 %\n"
          ]
        }
      ]
    }
  ]
}