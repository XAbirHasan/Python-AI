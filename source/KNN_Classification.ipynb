{
  "nbformat": 4,
  "nbformat_minor": 2,
  "metadata": {
    "colab": {
      "name": "final for knn.ipynb",
      "provenance": [],
      "collapsed_sections": []
    },
    "kernelspec": {
      "name": "python3",
      "display_name": "Python 3"
    }
  },
  "cells": [
    {
      "cell_type": "markdown",
      "source": [
        "# KNN Classification (for iris dataset)"
      ],
      "metadata": {
        "id": "AJ_mdFt3Y3eP"
      }
    },
    {
      "cell_type": "code",
      "execution_count": null,
      "source": [
        "#Iris data import:\r\n",
        "from numpy import genfromtxt\r\n",
        "data_path = '/content/dataset/iris.csv' #data path\r\n",
        "my_data = genfromtxt(data_path, delimiter=',')\r\n",
        "\r\n",
        "data = my_data.tolist()"
      ],
      "outputs": [],
      "metadata": {
        "id": "RBaZ707dsJTn"
      }
    },
    {
      "cell_type": "code",
      "execution_count": null,
      "source": [
        "# train test split\r\n",
        "import random\r\n",
        "\r\n",
        "train_set = []\r\n",
        "val_set = []\r\n",
        "test_set = []\r\n",
        "random.shuffle(data)\r\n",
        "for i in data:\r\n",
        "    r = random.random()\r\n",
        "    if(r>=0 and r<=0.7):train_set.append(i)\r\n",
        "    elif(r>0.7 and r<=0.85):val_set.append(i)\r\n",
        "    else:test_set.append(i)\r\n",
        "#print(len(train_set))\r\n",
        "#print(len(val_set))\r\n",
        "#print(len(test_set))"
      ],
      "outputs": [],
      "metadata": {
        "id": "sc2X7pEmtua4"
      }
    },
    {
      "cell_type": "code",
      "execution_count": null,
      "source": [
        "#KNN Classification (Using Iris data): validation\r\n",
        "import numpy as np\r\n",
        "import operator\r\n",
        "\r\n",
        "KNN = [1, 3, 5, 10, 15, 20, 30, 40, 60, 70, 90]\r\n",
        "\r\n",
        "for k in KNN:\r\n",
        "    count = 0\r\n",
        "    for s in val_set:\r\n",
        "        l = []\r\n",
        "        m = {}\r\n",
        "        for v in train_set:\r\n",
        "            l.append(np.linalg.norm(np.array(s) - np.array(v)))\r\n",
        "            m[zip(v)] = (np.linalg.norm(np.array(s) - np.array(v)))\r\n",
        "        l.sort()\r\n",
        "        sorted_l = sorted(m.items(), key=operator.itemgetter(1))\r\n",
        "        m = l[:k]\r\n",
        "        mejor =  max(set(m), key = m.count)\r\n",
        "        for i in range(k):\r\n",
        "            if(sorted_l[i][1] == mejor):\r\n",
        "                m_class = sorted_l[i][0]\r\n",
        "                break\r\n",
        "        result_class = float(str(list(m_class)[4]).translate({ord(i): None for i in '(,)'}))\r\n",
        "        if(s[4] == result_class):\r\n",
        "            count+=1\r\n",
        "    print(\"For K : \", k ,\" Accuracy is : \",(count/ len(val_set)*100), \" %\")"
      ],
      "outputs": [
        {
          "output_type": "stream",
          "name": "stdout",
          "text": [
            "For K :  1  Accuracy is :  100.0  %\n",
            "For K :  3  Accuracy is :  100.0  %\n",
            "For K :  5  Accuracy is :  100.0  %\n",
            "For K :  10  Accuracy is :  100.0  %\n",
            "For K :  15  Accuracy is :  100.0  %\n",
            "For K :  20  Accuracy is :  100.0  %\n",
            "For K :  30  Accuracy is :  100.0  %\n",
            "For K :  40  Accuracy is :  85.71428571428571  %\n",
            "For K :  60  Accuracy is :  80.95238095238095  %\n",
            "For K :  70  Accuracy is :  80.95238095238095  %\n",
            "For K :  90  Accuracy is :  57.14285714285714  %\n"
          ]
        }
      ],
      "metadata": {
        "id": "Qv8OORRY1nRw",
        "colab": {
          "base_uri": "https://localhost:8080/",
          "height": 204
        },
        "outputId": "7733b196-846a-4972-be74-2a7dc022044c"
      }
    },
    {
      "cell_type": "code",
      "execution_count": null,
      "source": [
        "#KNN Classification (Using Iris data):test\r\n",
        "import numpy as np\r\n",
        "import operator\r\n",
        "\r\n",
        "k = 15 # k value is 15\r\n",
        "count = 0\r\n",
        "for s in test_set:\r\n",
        "    l = []\r\n",
        "    m = {}\r\n",
        "    for v in train_set:\r\n",
        "        l.append(np.linalg.norm(np.array(s) - np.array(v)))\r\n",
        "        m[zip(v)] = (np.linalg.norm(np.array(s) - np.array(v)))\r\n",
        "    l.sort()\r\n",
        "    sorted_l = sorted(m.items(), key=operator.itemgetter(1))\r\n",
        "    m = l[:k]\r\n",
        "    mejor =  max(set(m), key = m.count)\r\n",
        "    for i in range(k):\r\n",
        "        if(sorted_l[i][1] == mejor):\r\n",
        "            m_class = sorted_l[i][0]\r\n",
        "            break\r\n",
        "    result_class = float(str(list(m_class)[4]).translate({ord(i): None for i in '(,)'}))\r\n",
        "    if(s[4] == result_class):\r\n",
        "          count+=1\r\n",
        "print((count/ len(test_set)*100))"
      ],
      "outputs": [
        {
          "output_type": "stream",
          "name": "stdout",
          "text": [
            "100.0\n"
          ]
        }
      ],
      "metadata": {
        "id": "2pA_Q8ChYEWx",
        "colab": {
          "base_uri": "https://localhost:8080/",
          "height": 34
        },
        "outputId": "c9b3d160-14f4-464c-868c-d87e36162bf0"
      }
    }
  ]
}