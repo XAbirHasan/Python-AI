{
  "nbformat": 4,
  "nbformat_minor": 2,
  "metadata": {
    "colab": {
      "name": "crossValidation.ipynb",
      "provenance": [],
      "collapsed_sections": []
    },
    "kernelspec": {
      "name": "python3",
      "display_name": "Python 3"
    }
  },
  "cells": [
    {
      "cell_type": "markdown",
      "source": [
        "# crossValidation"
      ],
      "metadata": {
        "id": "Rif6MGegc72O"
      }
    },
    {
      "cell_type": "code",
      "execution_count": null,
      "source": [
        "from sklearn.model_selection import train_test_split\r\n",
        "import numpy as np\r\n",
        "from sklearn.svm import SVC\r\n",
        "from sklearn.metrics import accuracy_score\r\n",
        "from sklearn.model_selection import KFold"
      ],
      "outputs": [],
      "metadata": {
        "id": "xcg-c9ezGOHr"
      }
    },
    {
      "cell_type": "code",
      "execution_count": null,
      "source": [
        "\r\n",
        "pos_5289 = \"/content/dataset/ENAC_pos_5289.npy\"\r\n",
        "neg_5289 = \"/content/dataset/ENAC_neg_5289.npy\"\r\n",
        "pos_1000 = \"/content/dataset/ENAC_pos_1000.npy\"\r\n",
        "neg_1000 = \"/content/dataset/ENAC_neg_1000.npy\"\r\n",
        "\r\n",
        "x_train_pos = np.load(pos_5289) \r\n",
        "x_train_neg = np.load(neg_5289) \r\n",
        "x_test_pos = np.load(pos_1000) \r\n",
        "x_test_neg = np.load(neg_1000) \r\n",
        "\r\n",
        "y_train_pos = np.tile(1, 5289) \r\n",
        "y_train_neg = np.tile(0, 5289) \r\n",
        "y_test_pos = np.tile(1, 1000) \r\n",
        "y_test_neg = np.tile(0, 1000) "
      ],
      "outputs": [],
      "metadata": {
        "id": "Bkibhn2DD9hU"
      }
    },
    {
      "cell_type": "code",
      "execution_count": null,
      "source": [
        "print(x_test_neg.shape)\r\n",
        "print(y_test_neg.shape)\r\n",
        "\r\n",
        "print(x_train_neg.shape)\r\n",
        "print(y_train_neg.shape)\r\n"
      ],
      "outputs": [
        {
          "output_type": "stream",
          "name": "stdout",
          "text": [
            "(1000, 148)\n",
            "(1000,)\n",
            "(5289, 148)\n",
            "(5289,)\n"
          ]
        }
      ],
      "metadata": {
        "id": "H84h5ZubMHuZ",
        "colab": {
          "base_uri": "https://localhost:8080/",
          "height": 87
        },
        "outputId": "7454f19b-537c-41da-846f-8a4f3c33423d"
      }
    },
    {
      "cell_type": "code",
      "execution_count": null,
      "source": [
        "seed = 40\r\n",
        "np.random.seed(seed)"
      ],
      "outputs": [],
      "metadata": {
        "id": "4woF7AbhG2D5"
      }
    },
    {
      "cell_type": "code",
      "execution_count": null,
      "source": [
        "x_training = np.concatenate((x_train_pos, x_train_neg), axis= 0)\r\n",
        "y_training = np.concatenate((y_train_pos, y_train_neg))"
      ],
      "outputs": [],
      "metadata": {
        "id": "Rxp25B0pIt5S"
      }
    },
    {
      "cell_type": "code",
      "execution_count": null,
      "source": [
        "x_test = np.concatenate((x_test_pos, x_test_neg))\n",
        "y_test = np.concatenate((y_test_pos, y_test_neg))"
      ],
      "outputs": [],
      "metadata": {
        "id": "5SlGQaZ0QtwH"
      }
    },
    {
      "cell_type": "code",
      "execution_count": null,
      "source": [
        "print(x_test.shape)\n",
        "print(y_test.shape)"
      ],
      "outputs": [
        {
          "output_type": "stream",
          "name": "stdout",
          "text": [
            "(2000, 148)\n",
            "(2000,)\n"
          ]
        }
      ],
      "metadata": {
        "id": "AFWq8oQ9Q8pr",
        "colab": {
          "base_uri": "https://localhost:8080/",
          "height": 52
        },
        "outputId": "b3856a27-3ddc-44c1-e62a-b83a5380b8f6"
      }
    },
    {
      "cell_type": "code",
      "execution_count": null,
      "source": [
        "print(x_training.shape)"
      ],
      "outputs": [
        {
          "output_type": "stream",
          "name": "stdout",
          "text": [
            "(10578, 148)\n"
          ]
        }
      ],
      "metadata": {
        "id": "r2lmmmO7JotB",
        "colab": {
          "base_uri": "https://localhost:8080/",
          "height": 35
        },
        "outputId": "e6f31de4-3df4-4d2e-b033-b9fc550ce40f"
      }
    },
    {
      "cell_type": "code",
      "execution_count": null,
      "source": [
        "kf = KFold(n_splits = 5, random_state=seed)"
      ],
      "outputs": [
        {
          "output_type": "stream",
          "name": "stderr",
          "text": [
            "/usr/local/lib/python3.6/dist-packages/sklearn/model_selection/_split.py:296: FutureWarning: Setting a random_state has no effect since shuffle is False. This will raise an error in 0.24. You should leave random_state to its default (None), or set shuffle=True.\n",
            "  FutureWarning\n"
          ]
        }
      ],
      "metadata": {
        "id": "s7kBxZXMX5q-",
        "colab": {
          "base_uri": "https://localhost:8080/",
          "height": 72
        },
        "outputId": "4046af61-05dd-4664-d18c-729070a68008"
      }
    },
    {
      "cell_type": "code",
      "execution_count": null,
      "source": [
        "c = .25\n",
        "clf = SVC(C=c,  random_state = seed)"
      ],
      "outputs": [],
      "metadata": {
        "id": "ookFyGUsYJaN"
      }
    },
    {
      "cell_type": "code",
      "execution_count": null,
      "source": [
        "val_accuracy_list = []\n",
        "train_accuracy_list = []\n",
        "count = 1\n",
        "for train_index, val_index in kf.split(x_training):\n",
        "    print(\"Fold : \",count)\n",
        "    X_train, X_val = x_training[train_index], x_training[val_index]\n",
        "    y_train, y_val = y_training[train_index], y_training[val_index]\n",
        "    \n",
        "    clf.fit(X_train, y_train)\n",
        "\n",
        "    y_val_pred = clf.predict(X_val)\n",
        "    val_accuracy = accuracy_score(y_val, y_val_pred)\n",
        "    val_accuracy_list.append(val_accuracy)\n",
        "\n",
        "    y_train_pred = clf.predict(X_train)\n",
        "    train_accuracy = accuracy_score(y_train, y_train_pred)\n",
        "    train_accuracy_list.append(train_accuracy)\n",
        "\n",
        "    count += 1 \n",
        "\n",
        "print(\"done\")"
      ],
      "outputs": [
        {
          "output_type": "stream",
          "name": "stdout",
          "text": [
            "Fold :  1\n",
            "Fold :  2\n",
            "Fold :  3\n",
            "Fold :  4\n",
            "Fold :  5\n",
            "done\n"
          ]
        }
      ],
      "metadata": {
        "id": "veZ7aQjkV_62",
        "colab": {
          "base_uri": "https://localhost:8080/",
          "height": 121
        },
        "outputId": "ed076d5b-130b-4ed3-ec31-0281a1d3888f"
      }
    },
    {
      "cell_type": "code",
      "execution_count": null,
      "source": [
        "for i in range(0, len(train_accuracy_list)):\n",
        "    print(\"train_accuracy : \", train_accuracy_list[i], \"\\tVal accuracy : \", val_accuracy_list[i])"
      ],
      "outputs": [
        {
          "output_type": "stream",
          "name": "stdout",
          "text": [
            "train_accuracy :  0.8575986764358308 \tVal accuracy :  0.3988657844990548\n",
            "train_accuracy :  0.8606712361143938 \tVal accuracy :  0.3856332703213611\n",
            "train_accuracy :  0.8688253367998109 \tVal accuracy :  0.6965973534971645\n",
            "train_accuracy :  0.8651778329197684 \tVal accuracy :  0.5891252955082742\n",
            "train_accuracy :  0.8810114616566229 \tVal accuracy :  0.4728132387706856\n"
          ]
        }
      ],
      "metadata": {
        "id": "Xd4wHl24YjpG",
        "colab": {
          "base_uri": "https://localhost:8080/",
          "height": 104
        },
        "outputId": "d7896ecc-7ac7-427f-c6f7-0a2e4b5dbb01"
      }
    }
  ]
}