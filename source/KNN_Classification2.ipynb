{
  "nbformat": 4,
  "nbformat_minor": 2,
  "metadata": {
    "colab": {
      "name": "knn for diabetics.ipynb",
      "provenance": [],
      "collapsed_sections": []
    },
    "kernelspec": {
      "name": "python3",
      "display_name": "Python 3"
    }
  },
  "cells": [
    {
      "cell_type": "markdown",
      "source": [
        "# KNN Classification (Using diabetes data)"
      ],
      "metadata": {
        "id": "O_Od0tIzZaUm"
      }
    },
    {
      "cell_type": "code",
      "execution_count": null,
      "source": [
        "#diabetes data import:\r\n",
        "from numpy import genfromtxt\r\n",
        "data_path = '/content/dataset/diabetes.csv' # data path\r\n",
        "my_data = genfromtxt(data_path, delimiter=',')\r\n",
        "\r\n",
        "data = my_data.tolist()"
      ],
      "outputs": [],
      "metadata": {
        "id": "xRmgMfgeY98-"
      }
    },
    {
      "cell_type": "code",
      "execution_count": null,
      "source": [
        "# train test split\r\n",
        "import random\r\n",
        "\r\n",
        "train_set = []\r\n",
        "val_set = []\r\n",
        "test_set = []\r\n",
        "random.shuffle(data)\r\n",
        "for i in data:\r\n",
        "    r = random.random()\r\n",
        "    if(r>=0 and r<=0.7):train_set.append(i)\r\n",
        "    elif(r>0.7 and r<=0.85):val_set.append(i)\r\n",
        "    else:test_set.append(i)"
      ],
      "outputs": [],
      "metadata": {
        "id": "1LI7AJD0ZG3Z"
      }
    },
    {
      "cell_type": "code",
      "execution_count": null,
      "source": [
        "#KNN Classification (Using diabetes data): validation\r\n",
        "import numpy as np\r\n",
        "import operator\r\n",
        "\r\n",
        "KNN = [1, 3, 5, 10, 15, 20, 30, 40, 60, 70, 90]\r\n",
        "best_k=KNN[0]\r\n",
        "best_error = 99999\r\n",
        "for k in KNN:\r\n",
        "    error = 0\r\n",
        "    for s in range (len(val_set)):\r\n",
        "        m = {}\r\n",
        "        for v in range(len(train_set)):\r\n",
        "            m[v] = (np.linalg.norm(np.array(val_set[s]) - np.array(train_set[v])))\r\n",
        "\r\n",
        "        sorted_l = sorted(m.items(), key=operator.itemgetter(1))\r\n",
        "        \r\n",
        "        val = 0\r\n",
        "        for i in range(k):\r\n",
        "            index = sorted_l[i][0]\r\n",
        "            val += train_set[index][10]\r\n",
        "        result_class = val/k\r\n",
        "        error+= (val_set[s][10] - result_class)**2\r\n",
        "    error_rate = error/ len(val_set)\r\n",
        "    if(best_error > error_rate):\r\n",
        "        best_error = error_rate\r\n",
        "        best_k = k\r\n",
        "    print(\"For K : \", k ,\" Error is : \",error_rate,)"
      ],
      "outputs": [
        {
          "output_type": "stream",
          "name": "stdout",
          "text": [
            "For K :  1  Error is :  0.9696969696969697\n",
            "For K :  3  Error is :  4.789562289562289\n",
            "For K :  5  Error is :  12.183030303030293\n",
            "For K :  10  Error is :  28.31242424242427\n",
            "For K :  15  Error is :  43.6661279461279\n",
            "For K :  20  Error is :  59.11973484848482\n",
            "For K :  30  Error is :  89.88454545454542\n",
            "For K :  40  Error is :  119.73663825757583\n",
            "For K :  60  Error is :  188.54281986531979\n",
            "For K :  70  Error is :  232.19768398268425\n",
            "For K :  90  Error is :  354.47554433221103\n"
          ]
        }
      ],
      "metadata": {
        "id": "Y5KR6pOrZZiQ",
        "colab": {
          "base_uri": "https://localhost:8080/",
          "height": 204
        },
        "outputId": "d2c8d9d7-7dab-4b05-f4f7-8ae1925468a4"
      }
    },
    {
      "cell_type": "code",
      "execution_count": null,
      "source": [
        "#KNN Classification (Using diabetes data): validation\r\n",
        "import numpy as np\r\n",
        "import operator\r\n",
        "\r\n",
        "k = best_k\r\n",
        "error = 0\r\n",
        "for s in range (len(test_set)):\r\n",
        "    m = {}\r\n",
        "    for v in range(len(train_set)):\r\n",
        "        m[v] = (np.linalg.norm(np.array(test_set[s]) - np.array(train_set[v])))\r\n",
        "\r\n",
        "    sorted_l = sorted(m.items(), key=operator.itemgetter(1))\r\n",
        "    val = 0\r\n",
        "    for i in range(k):\r\n",
        "        index = sorted_l[i][0]\r\n",
        "        val += train_set[index][10]\r\n",
        "    result_class = val/k\r\n",
        "    error+= (test_set[s][10] - result_class)**2\r\n",
        "print(\"For K : \", k ,\" Error is : \",error/ len(val_set),)"
      ],
      "outputs": [
        {
          "output_type": "stream",
          "name": "stdout",
          "text": [
            "For K :  1  Error is :  0.5454545454545454\n"
          ]
        }
      ],
      "metadata": {
        "id": "ZxdsD3-Ygwh5",
        "colab": {
          "base_uri": "https://localhost:8080/",
          "height": 34
        },
        "outputId": "89a58ab6-c955-4919-e0d5-782e0ed701e0"
      }
    }
  ]
}