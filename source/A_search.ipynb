{
  "nbformat": 4,
  "nbformat_minor": 0,
  "metadata": {
    "colab": {
      "name": "A* search for assignment",
      "provenance": [],
      "collapsed_sections": []
    },
    "kernelspec": {
      "name": "python3",
      "display_name": "Python 3"
    }
  },
  "cells": [
    {
      "cell_type": "markdown",
      "metadata": {
        "id": "OeS7KVHYeYvW"
      },
      "source": [
        "# A* search \n",
        "\n",
        "![5.png](data:image/png;base64,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)\n",
        "\n",
        "find the shortest path from S to D. here h = heuristic value"
      ]
    },
    {
      "cell_type": "code",
      "metadata": {
        "id": "pUA5wgB8hbfG"
      },
      "source": [
        "class PriorityQueue(object): \n",
        "    def __init__(self): \n",
        "        self.queue = [] \n",
        "  \n",
        "    def __str__(self): \n",
        "        return ' '.join([str(i) for i in self.queue]) \n",
        "  \n",
        "    # for checking if the queue is empty \n",
        "    def isEmpty(self): \n",
        "        return len(self.queue) == [] \n",
        "  \n",
        "    # for inserting an element in the queue \n",
        "    def insert(self, data): \n",
        "        self.queue.append(data)\n",
        "\n",
        "    # find size of the list\n",
        "    def size(self):\n",
        "        return len(self.queue)\n",
        "      \n",
        "    # for popping an element based on Priority \n",
        "    def delete(self): \n",
        "        try: \n",
        "            min = 0\n",
        "            for i in range(len(self.queue)): \n",
        "                if self.queue[i].total_cost < self.queue[min].total_cost: \n",
        "                    min = i \n",
        "            item = self.queue[min] \n",
        "            del self.queue[min] \n",
        "            return item \n",
        "        except IndexError: \n",
        "            print() \n",
        "            exit()"
      ],
      "execution_count": null,
      "outputs": []
    },
    {
      "cell_type": "code",
      "metadata": {
        "id": "5V5ADdBEqFEY",
        "colab": {
          "base_uri": "https://localhost:8080/",
          "height": 187
        },
        "outputId": "627f0d07-cac0-418f-c81e-bc1ac18925c2"
      },
      "source": [
        "node_map =[0,1,2,3,4]\n",
        "#print(node_map[4])\n",
        "node_name = {0:'S', 1:'A', 2:'B', 3:'C', 4:'D'}\n",
        "#print(list_graph[0])\n",
        "graph = [[-1, 1, 4, -1, -1],\n",
        "         [-1, -1, 2, 5, 12],\n",
        "         [-1,-1, -1, 2, -1],\n",
        "         [-1, -1, -1, -1, 3],\n",
        "         [-1, -1, -1, -1, -1]]\n",
        "\n",
        "h_of_node = {0:7, 1:6, 2:2, 3:1, 4:0}\n",
        "\n",
        "class Node:\n",
        "    def __init__(self, actual_cost, total_cost, parent, node_no):\n",
        "        self.actual_cost = actual_cost\n",
        "        self.total_cost = total_cost\n",
        "        self.parent = parent\n",
        "        self.node_no = node_no\n",
        "    def child_parent(self):\n",
        "        return self.parent\n",
        "\n",
        "s = Node(0,7,None,0)  #insert s.\n",
        "goal = None\n",
        "minQ = PriorityQueue()\n",
        "minQ.insert(s)\n",
        "while not minQ.isEmpty():\n",
        "    obj = minQ.delete() #pop queue.\n",
        "    print(obj.node_no);\n",
        "    #print(obj.total_cost)\n",
        "    if(obj.node_no == 4 ):\n",
        "        #back_tarcking need to implement last\n",
        "        goal = obj\n",
        "        print(\"found\")\n",
        "        break\n",
        "    count = 0\n",
        "    for i in graph[obj.node_no]:\n",
        "        if (i != -1):\n",
        "            actual_cost = obj.actual_cost + i\n",
        "            total_cost = actual_cost + h_of_node[count]\n",
        "            node_no = count\n",
        "            #print(count) #to see node dst\n",
        "            child = Node(actual_cost, total_cost, obj, node_no)\n",
        "            #print(node_name[child.node_no]) #to see acutal node in queue\n",
        "            minQ.insert(child)\n",
        "        count += 1\n",
        "#back_tarcking\n",
        "if(goal != None):\n",
        "    path = []\n",
        "    child = parent = goal\n",
        "    while( parent != None):\n",
        "        path.append(node_name[child.node_no])\n",
        "        parent = child.child_parent()\n",
        "        child = parent\n",
        "    path.reverse()\n",
        "    print(path)"
      ],
      "execution_count": null,
      "outputs": [
        {
          "output_type": "stream",
          "text": [
            "0\n",
            "2\n",
            "1\n",
            "2\n",
            "3\n",
            "3\n",
            "3\n",
            "4\n",
            "found\n",
            "['S', 'A', 'B', 'C', 'D']\n"
          ],
          "name": "stdout"
        }
      ]
    }
  ]
}